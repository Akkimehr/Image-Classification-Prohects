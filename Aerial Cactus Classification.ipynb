{
 "cells": [
  {
   "cell_type": "code",
   "execution_count": 22,
   "metadata": {
    "colab": {},
    "colab_type": "code",
    "executionInfo": {
     "elapsed": 1590,
     "status": "ok",
     "timestamp": 1593533631855,
     "user": {
      "displayName": "Akshat Mehrotra",
      "photoUrl": "",
      "userId": "10317595721459140232"
     },
     "user_tz": -330
    },
    "id": "PzvAyv0hbVVg"
   },
   "outputs": [],
   "source": [
    "import pandas as pd\n",
    "import numpy as np\n",
    "import cv2 as cv\n",
    "import os"
   ]
  },
  {
   "cell_type": "code",
   "execution_count": 23,
   "metadata": {
    "colab": {},
    "colab_type": "code",
    "executionInfo": {
     "elapsed": 1223,
     "status": "ok",
     "timestamp": 1593533631856,
     "user": {
      "displayName": "Akshat Mehrotra",
      "photoUrl": "",
      "userId": "10317595721459140232"
     },
     "user_tz": -330
    },
    "id": "Ofg7FbpCbipj"
   },
   "outputs": [],
   "source": [
    "path = '/content/drive/My Drive/Colab Notebooks/Aerial Cactus identification/'"
   ]
  },
  {
   "cell_type": "code",
   "execution_count": 24,
   "metadata": {
    "colab": {
     "base_uri": "https://localhost:8080/",
     "height": 33
    },
    "colab_type": "code",
    "executionInfo": {
     "elapsed": 1425,
     "status": "ok",
     "timestamp": 1593533632446,
     "user": {
      "displayName": "Akshat Mehrotra",
      "photoUrl": "",
      "userId": "10317595721459140232"
     },
     "user_tz": -330
    },
    "id": "Gkhzw5nrbrKI",
    "outputId": "4a6d5381-71c9-4911-c9d4-e225ece01d9e"
   },
   "outputs": [
    {
     "data": {
      "text/plain": [
       "(17500, 2)"
      ]
     },
     "execution_count": 24,
     "metadata": {
      "tags": []
     },
     "output_type": "execute_result"
    }
   ],
   "source": [
    "train_csv = pd.read_csv(path + 'train.csv')\n",
    "train_csv.shape"
   ]
  },
  {
   "cell_type": "code",
   "execution_count": 25,
   "metadata": {
    "colab": {
     "base_uri": "https://localhost:8080/",
     "height": 190
    },
    "colab_type": "code",
    "executionInfo": {
     "elapsed": 1656,
     "status": "ok",
     "timestamp": 1593533633042,
     "user": {
      "displayName": "Akshat Mehrotra",
      "photoUrl": "",
      "userId": "10317595721459140232"
     },
     "user_tz": -330
    },
    "id": "mUZMxYYHbvO1",
    "outputId": "ffb84735-ab9f-4435-c11c-aea723348455"
   },
   "outputs": [
    {
     "data": {
      "text/html": [
       "<div>\n",
       "<style scoped>\n",
       "    .dataframe tbody tr th:only-of-type {\n",
       "        vertical-align: middle;\n",
       "    }\n",
       "\n",
       "    .dataframe tbody tr th {\n",
       "        vertical-align: top;\n",
       "    }\n",
       "\n",
       "    .dataframe thead th {\n",
       "        text-align: right;\n",
       "    }\n",
       "</style>\n",
       "<table border=\"1\" class=\"dataframe\">\n",
       "  <thead>\n",
       "    <tr style=\"text-align: right;\">\n",
       "      <th></th>\n",
       "      <th>id</th>\n",
       "      <th>has_cactus</th>\n",
       "    </tr>\n",
       "  </thead>\n",
       "  <tbody>\n",
       "    <tr>\n",
       "      <th>0</th>\n",
       "      <td>0004be2cfeaba1c0361d39e2b000257b.jpg</td>\n",
       "      <td>1</td>\n",
       "    </tr>\n",
       "    <tr>\n",
       "      <th>1</th>\n",
       "      <td>000c8a36845c0208e833c79c1bffedd1.jpg</td>\n",
       "      <td>1</td>\n",
       "    </tr>\n",
       "    <tr>\n",
       "      <th>2</th>\n",
       "      <td>000d1e9a533f62e55c289303b072733d.jpg</td>\n",
       "      <td>1</td>\n",
       "    </tr>\n",
       "    <tr>\n",
       "      <th>3</th>\n",
       "      <td>0011485b40695e9138e92d0b3fb55128.jpg</td>\n",
       "      <td>1</td>\n",
       "    </tr>\n",
       "    <tr>\n",
       "      <th>4</th>\n",
       "      <td>0014d7a11e90b62848904c1418fc8cf2.jpg</td>\n",
       "      <td>1</td>\n",
       "    </tr>\n",
       "  </tbody>\n",
       "</table>\n",
       "</div>"
      ],
      "text/plain": [
       "                                     id  has_cactus\n",
       "0  0004be2cfeaba1c0361d39e2b000257b.jpg           1\n",
       "1  000c8a36845c0208e833c79c1bffedd1.jpg           1\n",
       "2  000d1e9a533f62e55c289303b072733d.jpg           1\n",
       "3  0011485b40695e9138e92d0b3fb55128.jpg           1\n",
       "4  0014d7a11e90b62848904c1418fc8cf2.jpg           1"
      ]
     },
     "execution_count": 25,
     "metadata": {
      "tags": []
     },
     "output_type": "execute_result"
    }
   ],
   "source": [
    "train_csv.head()"
   ]
  },
  {
   "cell_type": "code",
   "execution_count": 26,
   "metadata": {
    "colab": {},
    "colab_type": "code",
    "executionInfo": {
     "elapsed": 1282,
     "status": "ok",
     "timestamp": 1593533633043,
     "user": {
      "displayName": "Akshat Mehrotra",
      "photoUrl": "",
      "userId": "10317595721459140232"
     },
     "user_tz": -330
    },
    "id": "1HRP4oLlctlk"
   },
   "outputs": [],
   "source": [
    "#### LOADING THE DATA\n",
    "\n",
    "images = []\n",
    "labels = []\n",
    "\n",
    "def load_data(path):\n",
    "\n",
    "  for i in range(0, len(train_csv['id'])):\n",
    "\n",
    "    image = cv.imread(path + 'train/' + train_csv['id'][i])\n",
    "    if image is None:\n",
    "      continue\n",
    "    image = cv.cvtColor(image, cv.COLOR_BGR2RGB)\n",
    "    image = cv.resize(image, (32, 32))\n",
    "    image = image.astype('float32')/255.0\n",
    "\n",
    "    label = train_csv['has_cactus'][i]\n",
    "\n",
    "    images.append(image)\n",
    "    labels.append(label)\n",
    "  \n",
    "  images_r = np.array(images)\n",
    "  labels_r = np.array(labels)\n",
    "\n",
    "  return images_r, labels_r"
   ]
  },
  {
   "cell_type": "code",
   "execution_count": 27,
   "metadata": {
    "colab": {},
    "colab_type": "code",
    "executionInfo": {
     "elapsed": 132869,
     "status": "ok",
     "timestamp": 1593533765008,
     "user": {
      "displayName": "Akshat Mehrotra",
      "photoUrl": "",
      "userId": "10317595721459140232"
     },
     "user_tz": -330
    },
    "id": "3QavIo9LgCSj"
   },
   "outputs": [],
   "source": [
    "images, labels = load_data(path)"
   ]
  },
  {
   "cell_type": "code",
   "execution_count": 28,
   "metadata": {
    "colab": {
     "base_uri": "https://localhost:8080/",
     "height": 33
    },
    "colab_type": "code",
    "executionInfo": {
     "elapsed": 132480,
     "status": "ok",
     "timestamp": 1593533765009,
     "user": {
      "displayName": "Akshat Mehrotra",
      "photoUrl": "",
      "userId": "10317595721459140232"
     },
     "user_tz": -330
    },
    "id": "u3VrwWZRgFHc",
    "outputId": "9794c039-d42f-4753-a629-613766dba459"
   },
   "outputs": [
    {
     "data": {
      "text/plain": [
       "((17500, 32, 32, 3), (17500,))"
      ]
     },
     "execution_count": 28,
     "metadata": {
      "tags": []
     },
     "output_type": "execute_result"
    }
   ],
   "source": [
    "images.shape, labels.shape"
   ]
  },
  {
   "cell_type": "code",
   "execution_count": 29,
   "metadata": {
    "colab": {
     "base_uri": "https://localhost:8080/",
     "height": 300
    },
    "colab_type": "code",
    "executionInfo": {
     "elapsed": 132076,
     "status": "ok",
     "timestamp": 1593533765010,
     "user": {
      "displayName": "Akshat Mehrotra",
      "photoUrl": "",
      "userId": "10317595721459140232"
     },
     "user_tz": -330
    },
    "id": "NU0hqfSKgH0p",
    "outputId": "9e1ec070-269e-43cd-bedd-2dfd2589ab37"
   },
   "outputs": [
    {
     "name": "stdout",
     "output_type": "stream",
     "text": [
      "1\n"
     ]
    },
    {
     "data": {
      "text/plain": [
       "<matplotlib.image.AxesImage at 0x7fc9da417828>"
      ]
     },
     "execution_count": 29,
     "metadata": {
      "tags": []
     },
     "output_type": "execute_result"
    },
    {
     "data": {
      "image/png": "[encoded data removed]",
      "text/plain": [
       "<Figure size 432x288 with 1 Axes>"
      ]
     },
     "metadata": {
      "needs_background": "light",
      "tags": []
     },
     "output_type": "display_data"
    }
   ],
   "source": [
    "import matplotlib.pyplot as plt\n",
    "\n",
    "print(labels[0])\n",
    "plt.imshow(images[0])"
   ]
  },
  {
   "cell_type": "code",
   "execution_count": 30,
   "metadata": {
    "colab": {
     "base_uri": "https://localhost:8080/",
     "height": 300
    },
    "colab_type": "code",
    "executionInfo": {
     "elapsed": 132744,
     "status": "ok",
     "timestamp": 1593533766050,
     "user": {
      "displayName": "Akshat Mehrotra",
      "photoUrl": "",
      "userId": "10317595721459140232"
     },
     "user_tz": -330
    },
    "id": "bNYVYphLgaPf",
    "outputId": "9bcabf42-5369-4f9c-bcfd-9af259e2ca72"
   },
   "outputs": [
    {
     "name": "stdout",
     "output_type": "stream",
     "text": [
      "1\n"
     ]
    },
    {
     "data": {
      "text/plain": [
       "<matplotlib.image.AxesImage at 0x7fc9daa1dc50>"
      ]
     },
     "execution_count": 30,
     "metadata": {
      "tags": []
     },
     "output_type": "execute_result"
    },
    {
     "data": {
      "image/png": "[encoded data removed]",
      "text/plain": [
       "<Figure size 432x288 with 1 Axes>"
      ]
     },
     "metadata": {
      "needs_background": "light",
      "tags": []
     },
     "output_type": "display_data"
    }
   ],
   "source": [
    "print(labels[1001])\n",
    "plt.imshow(images[1001])"
   ]
  },
  {
   "cell_type": "code",
   "execution_count": 31,
   "metadata": {
    "colab": {},
    "colab_type": "code",
    "executionInfo": {
     "elapsed": 132353,
     "status": "ok",
     "timestamp": 1593533766051,
     "user": {
      "displayName": "Akshat Mehrotra",
      "photoUrl": "",
      "userId": "10317595721459140232"
     },
     "user_tz": -330
    },
    "id": "lxefW8ISavKt"
   },
   "outputs": [],
   "source": [
    "from tensorflow.keras.utils import to_categorical\n",
    "from sklearn.model_selection import train_test_split"
   ]
  },
  {
   "cell_type": "code",
   "execution_count": 32,
   "metadata": {
    "colab": {},
    "colab_type": "code",
    "executionInfo": {
     "elapsed": 131970,
     "status": "ok",
     "timestamp": 1593533766051,
     "user": {
      "displayName": "Akshat Mehrotra",
      "photoUrl": "",
      "userId": "10317595721459140232"
     },
     "user_tz": -330
    },
    "id": "iCuzb4r2qXBy"
   },
   "outputs": [],
   "source": [
    "X_train, X_test, Y_train, Y_test = train_test_split(images, labels, test_size=0.1, random_state=10)"
   ]
  },
  {
   "cell_type": "code",
   "execution_count": 33,
   "metadata": {
    "colab": {
     "base_uri": "https://localhost:8080/",
     "height": 33
    },
    "colab_type": "code",
    "executionInfo": {
     "elapsed": 131585,
     "status": "ok",
     "timestamp": 1593533766052,
     "user": {
      "displayName": "Akshat Mehrotra",
      "photoUrl": "",
      "userId": "10317595721459140232"
     },
     "user_tz": -330
    },
    "id": "HmyPHaiJqgpi",
    "outputId": "25ccba19-7ec4-454a-975c-99f65a680b65"
   },
   "outputs": [
    {
     "name": "stdout",
     "output_type": "stream",
     "text": [
      "(15750, 32, 32, 3) (1750, 32, 32, 3) (15750, 2) (1750, 2)\n"
     ]
    }
   ],
   "source": [
    "Y_train_req = to_categorical(Y_train)\n",
    "Y_test_req = to_categorical(Y_test)\n",
    "\n",
    "print(X_train.shape, X_test.shape, Y_train_req.shape, Y_test_req.shape)"
   ]
  },
  {
   "cell_type": "code",
   "execution_count": 34,
   "metadata": {
    "colab": {},
    "colab_type": "code",
    "executionInfo": {
     "elapsed": 131199,
     "status": "ok",
     "timestamp": 1593533766053,
     "user": {
      "displayName": "Akshat Mehrotra",
      "photoUrl": "",
      "userId": "10317595721459140232"
     },
     "user_tz": -330
    },
    "id": "vzAKJPYYqrCc"
   },
   "outputs": [],
   "source": [
    "from tensorflow.keras.layers import Conv2D, MaxPooling2D, Flatten, Dense, BatchNormalization, Dropout, Input\n",
    "from tensorflow.keras.models import Sequential"
   ]
  },
  {
   "cell_type": "code",
   "execution_count": 35,
   "metadata": {
    "colab": {},
    "colab_type": "code",
    "executionInfo": {
     "elapsed": 130793,
     "status": "ok",
     "timestamp": 1593533766053,
     "user": {
      "displayName": "Akshat Mehrotra",
      "photoUrl": "",
      "userId": "10317595721459140232"
     },
     "user_tz": -330
    },
    "id": "aEd-DOkuq3zI"
   },
   "outputs": [],
   "source": [
    "model = Sequential()\n",
    "model.add(Input((32, 32, 3)))\n",
    "\n",
    "model.add(Conv2D(16, (3,3), padding='same', strides=1, activation='relu'))\n",
    "model.add(MaxPooling2D((2,2), strides=2))\n",
    "model.add(BatchNormalization(axis=3))\n",
    "\n",
    "model.add(Conv2D(32, (3,3), padding='same', strides=1, activation='relu'))\n",
    "model.add(MaxPooling2D((2,2), strides=2))\n",
    "model.add(BatchNormalization(axis=3))\n",
    "\n",
    "model.add(Conv2D(64, (3,3), padding='same', strides=1, activation='relu'))\n",
    "model.add(MaxPooling2D((2,2), strides=2))\n",
    "model.add(BatchNormalization(axis=3))\n",
    "\n",
    "model.add(Flatten())\n",
    "model.add(Dense(120, activation='relu'))\n",
    "model.add(Dropout(0.5))\n",
    "model.add(Dense(84, activation='relu'))\n",
    "model.add(Dense(2, activation='sigmoid'))"
   ]
  },
  {
   "cell_type": "code",
   "execution_count": 36,
   "metadata": {
    "colab": {
     "base_uri": "https://localhost:8080/",
     "height": 621
    },
    "colab_type": "code",
    "executionInfo": {
     "elapsed": 130404,
     "status": "ok",
     "timestamp": 1593533766054,
     "user": {
      "displayName": "Akshat Mehrotra",
      "photoUrl": "",
      "userId": "10317595721459140232"
     },
     "user_tz": -330
    },
    "id": "AFzHPRWDrr-6",
    "outputId": "3b7ab137-e8f7-450d-9399-d65e17ee0415"
   },
   "outputs": [
    {
     "name": "stdout",
     "output_type": "stream",
     "text": [
      "Model: \"sequential_1\"\n",
      "_________________________________________________________________\n",
      "Layer (type)                 Output Shape              Param #   \n",
      "=================================================================\n",
      "conv2d_3 (Conv2D)            (None, 32, 32, 16)        448       \n",
      "_________________________________________________________________\n",
      "max_pooling2d_3 (MaxPooling2 (None, 16, 16, 16)        0         \n",
      "_________________________________________________________________\n",
      "batch_normalization_3 (Batch (None, 16, 16, 16)        64        \n",
      "_________________________________________________________________\n",
      "conv2d_4 (Conv2D)            (None, 16, 16, 32)        4640      \n",
      "_________________________________________________________________\n",
      "max_pooling2d_4 (MaxPooling2 (None, 8, 8, 32)          0         \n",
      "_________________________________________________________________\n",
      "batch_normalization_4 (Batch (None, 8, 8, 32)          128       \n",
      "_________________________________________________________________\n",
      "conv2d_5 (Conv2D)            (None, 8, 8, 64)          18496     \n",
      "_________________________________________________________________\n",
      "max_pooling2d_5 (MaxPooling2 (None, 4, 4, 64)          0         \n",
      "_________________________________________________________________\n",
      "batch_normalization_5 (Batch (None, 4, 4, 64)          256       \n",
      "_________________________________________________________________\n",
      "flatten_1 (Flatten)          (None, 1024)              0         \n",
      "_________________________________________________________________\n",
      "dense_3 (Dense)              (None, 120)               123000    \n",
      "_________________________________________________________________\n",
      "dropout_1 (Dropout)          (None, 120)               0         \n",
      "_________________________________________________________________\n",
      "dense_4 (Dense)              (None, 84)                10164     \n",
      "_________________________________________________________________\n",
      "dense_5 (Dense)              (None, 2)                 170       \n",
      "=================================================================\n",
      "Total params: 157,366\n",
      "Trainable params: 157,142\n",
      "Non-trainable params: 224\n",
      "_________________________________________________________________\n"
     ]
    }
   ],
   "source": [
    "model.summary()"
   ]
  },
  {
   "cell_type": "code",
   "execution_count": 37,
   "metadata": {
    "colab": {},
    "colab_type": "code",
    "executionInfo": {
     "elapsed": 129990,
     "status": "ok",
     "timestamp": 1593533766054,
     "user": {
      "displayName": "Akshat Mehrotra",
      "photoUrl": "",
      "userId": "10317595721459140232"
     },
     "user_tz": -330
    },
    "id": "U7_7e3NWryAY"
   },
   "outputs": [],
   "source": [
    "model.compile(loss='categorical_crossentropy', optimizer='adam', metrics=['accuracy'])"
   ]
  },
  {
   "cell_type": "code",
   "execution_count": 38,
   "metadata": {
    "colab": {
     "base_uri": "https://localhost:8080/",
     "height": 1000
    },
    "colab_type": "code",
    "executionInfo": {
     "elapsed": 231319,
     "status": "ok",
     "timestamp": 1593533868222,
     "user": {
      "displayName": "Akshat Mehrotra",
      "photoUrl": "",
      "userId": "10317595721459140232"
     },
     "user_tz": -330
    },
    "id": "2iGqOTuOsAgT",
    "outputId": "4cae144a-c71b-4f45-d4de-b63b71135e85"
   },
   "outputs": [
    {
     "name": "stdout",
     "output_type": "stream",
     "text": [
      "Epoch 1/30\n",
      "443/443 [==============================] - 4s 9ms/step - loss: 0.1330 - accuracy: 0.9503 - val_loss: 3.0722 - val_accuracy: 0.7498\n",
      "Epoch 2/30\n",
      "443/443 [==============================] - 4s 8ms/step - loss: 0.0791 - accuracy: 0.9719 - val_loss: 0.3052 - val_accuracy: 0.8540\n",
      "Epoch 3/30\n",
      "443/443 [==============================] - 3s 8ms/step - loss: 0.0485 - accuracy: 0.9829 - val_loss: 0.2992 - val_accuracy: 0.8692\n",
      "Epoch 4/30\n",
      "443/443 [==============================] - 3s 8ms/step - loss: 0.0408 - accuracy: 0.9865 - val_loss: 0.0324 - val_accuracy: 0.9917\n",
      "Epoch 5/30\n",
      "443/443 [==============================] - 3s 8ms/step - loss: 0.0307 - accuracy: 0.9893 - val_loss: 0.2033 - val_accuracy: 0.9244\n",
      "Epoch 6/30\n",
      "443/443 [==============================] - 4s 8ms/step - loss: 0.0264 - accuracy: 0.9907 - val_loss: 0.3227 - val_accuracy: 0.8927\n",
      "Epoch 7/30\n",
      "443/443 [==============================] - 3s 8ms/step - loss: 0.0302 - accuracy: 0.9902 - val_loss: 0.2345 - val_accuracy: 0.9378\n",
      "Epoch 8/30\n",
      "443/443 [==============================] - 3s 8ms/step - loss: 0.0147 - accuracy: 0.9941 - val_loss: 0.1628 - val_accuracy: 0.9625\n",
      "Epoch 9/30\n",
      "443/443 [==============================] - 3s 7ms/step - loss: 0.0126 - accuracy: 0.9958 - val_loss: 0.4594 - val_accuracy: 0.8990\n",
      "Epoch 10/30\n",
      "443/443 [==============================] - 3s 7ms/step - loss: 0.0145 - accuracy: 0.9953 - val_loss: 0.0361 - val_accuracy: 0.9905\n",
      "Epoch 11/30\n",
      "443/443 [==============================] - 3s 7ms/step - loss: 0.0151 - accuracy: 0.9949 - val_loss: 0.0549 - val_accuracy: 0.9841\n",
      "Epoch 12/30\n",
      "443/443 [==============================] - 3s 8ms/step - loss: 0.0105 - accuracy: 0.9966 - val_loss: 0.0338 - val_accuracy: 0.9898\n",
      "Epoch 13/30\n",
      "443/443 [==============================] - 3s 8ms/step - loss: 0.0060 - accuracy: 0.9977 - val_loss: 0.1156 - val_accuracy: 0.9689\n",
      "Epoch 14/30\n",
      "443/443 [==============================] - 3s 8ms/step - loss: 0.0210 - accuracy: 0.9932 - val_loss: 0.0704 - val_accuracy: 0.9790\n",
      "Epoch 15/30\n",
      "443/443 [==============================] - 3s 8ms/step - loss: 0.0099 - accuracy: 0.9970 - val_loss: 0.0797 - val_accuracy: 0.9784\n",
      "Epoch 16/30\n",
      "443/443 [==============================] - 3s 8ms/step - loss: 0.0125 - accuracy: 0.9960 - val_loss: 0.0826 - val_accuracy: 0.9759\n",
      "Epoch 17/30\n",
      "443/443 [==============================] - 3s 8ms/step - loss: 0.0053 - accuracy: 0.9984 - val_loss: 0.1293 - val_accuracy: 0.9676\n",
      "Epoch 18/30\n",
      "443/443 [==============================] - 3s 7ms/step - loss: 0.0074 - accuracy: 0.9975 - val_loss: 0.1621 - val_accuracy: 0.9632\n",
      "Epoch 19/30\n",
      "443/443 [==============================] - 3s 7ms/step - loss: 0.0099 - accuracy: 0.9968 - val_loss: 0.0389 - val_accuracy: 0.9879\n",
      "Epoch 20/30\n",
      "443/443 [==============================] - 3s 8ms/step - loss: 0.0054 - accuracy: 0.9983 - val_loss: 0.7397 - val_accuracy: 0.8578\n",
      "Epoch 21/30\n",
      "443/443 [==============================] - 3s 8ms/step - loss: 0.0077 - accuracy: 0.9972 - val_loss: 0.0534 - val_accuracy: 0.9873\n",
      "Epoch 22/30\n",
      "443/443 [==============================] - 3s 7ms/step - loss: 0.0043 - accuracy: 0.9983 - val_loss: 0.1068 - val_accuracy: 0.9759\n",
      "Epoch 23/30\n",
      "443/443 [==============================] - 3s 7ms/step - loss: 0.0115 - accuracy: 0.9968 - val_loss: 0.3493 - val_accuracy: 0.9041\n",
      "Epoch 24/30\n",
      "443/443 [==============================] - 3s 8ms/step - loss: 0.0062 - accuracy: 0.9985 - val_loss: 0.0683 - val_accuracy: 0.9854\n",
      "Epoch 25/30\n",
      "443/443 [==============================] - 3s 8ms/step - loss: 0.0066 - accuracy: 0.9986 - val_loss: 0.0378 - val_accuracy: 0.9930\n",
      "Epoch 26/30\n",
      "443/443 [==============================] - 3s 8ms/step - loss: 0.0059 - accuracy: 0.9980 - val_loss: 0.0273 - val_accuracy: 0.9917\n",
      "Epoch 27/30\n",
      "443/443 [==============================] - 3s 8ms/step - loss: 0.0052 - accuracy: 0.9987 - val_loss: 0.0338 - val_accuracy: 0.9892\n",
      "Epoch 28/30\n",
      "443/443 [==============================] - 3s 7ms/step - loss: 0.0029 - accuracy: 0.9986 - val_loss: 0.0304 - val_accuracy: 0.9937\n",
      "Epoch 29/30\n",
      "443/443 [==============================] - 3s 7ms/step - loss: 0.0015 - accuracy: 0.9994 - val_loss: 0.0889 - val_accuracy: 0.9835\n",
      "Epoch 30/30\n",
      "443/443 [==============================] - 3s 7ms/step - loss: 0.0067 - accuracy: 0.9977 - val_loss: 0.0422 - val_accuracy: 0.9911\n"
     ]
    }
   ],
   "source": [
    "history = model.fit(X_train, Y_train_req, validation_split=0.1, epochs=30, batch_size=32)"
   ]
  },
  {
   "cell_type": "code",
   "execution_count": 39,
   "metadata": {
    "colab": {
     "base_uri": "https://localhost:8080/",
     "height": 50
    },
    "colab_type": "code",
    "executionInfo": {
     "elapsed": 230827,
     "status": "ok",
     "timestamp": 1593533868734,
     "user": {
      "displayName": "Akshat Mehrotra",
      "photoUrl": "",
      "userId": "10317595721459140232"
     },
     "user_tz": -330
    },
    "id": "68s1EdLUsG71",
    "outputId": "b6f2b6e4-91a1-4ce9-cd55-78e49246f16d"
   },
   "outputs": [
    {
     "name": "stdout",
     "output_type": "stream",
     "text": [
      "55/55 [==============================] - 0s 3ms/step - loss: 0.0570 - accuracy: 0.9886\n"
     ]
    },
    {
     "data": {
      "text/plain": [
       "[0.0570068284869194, 0.9885714054107666]"
      ]
     },
     "execution_count": 39,
     "metadata": {
      "tags": []
     },
     "output_type": "execute_result"
    }
   ],
   "source": [
    "model.evaluate(X_test, Y_test_req)"
   ]
  },
  {
   "cell_type": "code",
   "execution_count": 40,
   "metadata": {
    "colab": {
     "base_uri": "https://localhost:8080/",
     "height": 282
    },
    "colab_type": "code",
    "executionInfo": {
     "elapsed": 230352,
     "status": "ok",
     "timestamp": 1593533868735,
     "user": {
      "displayName": "Akshat Mehrotra",
      "photoUrl": "",
      "userId": "10317595721459140232"
     },
     "user_tz": -330
    },
    "id": "sdur9vPisarp",
    "outputId": "696b263c-a4e9-493c-a8df-49bf54a3beaa"
   },
   "outputs": [
    {
     "data": {
      "text/plain": [
       "<matplotlib.legend.Legend at 0x7fc9da56b710>"
      ]
     },
     "execution_count": 40,
     "metadata": {
      "tags": []
     },
     "output_type": "execute_result"
    },
    {
     "data": {
      "image/png": "[encoded data removed]",
      "text/plain": [
       "<Figure size 432x288 with 1 Axes>"
      ]
     },
     "metadata": {
      "needs_background": "light",
      "tags": []
     },
     "output_type": "display_data"
    }
   ],
   "source": [
    "plt.plot(history.history['loss'])\n",
    "plt.plot(history.history['val_loss'])\n",
    "plt.legend(['Training Loss', 'Validation Loss'], loc='upper right')"
   ]
  },
  {
   "cell_type": "code",
   "execution_count": 41,
   "metadata": {
    "colab": {
     "base_uri": "https://localhost:8080/",
     "height": 282
    },
    "colab_type": "code",
    "executionInfo": {
     "elapsed": 230083,
     "status": "ok",
     "timestamp": 1593533869336,
     "user": {
      "displayName": "Akshat Mehrotra",
      "photoUrl": "",
      "userId": "10317595721459140232"
     },
     "user_tz": -330
    },
    "id": "bJlKnZ_VtAEN",
    "outputId": "5b623e60-46ee-46c3-80e1-113969807b9d"
   },
   "outputs": [
    {
     "data": {
      "text/plain": [
       "<matplotlib.legend.Legend at 0x7fc9da7c59b0>"
      ]
     },
     "execution_count": 41,
     "metadata": {
      "tags": []
     },
     "output_type": "execute_result"
    },
    {
     "data": {
      "image/png": "[encoded data removed]",
      "text/plain": [
       "<Figure size 432x288 with 1 Axes>"
      ]
     },
     "metadata": {
      "needs_background": "light",
      "tags": []
     },
     "output_type": "display_data"
    }
   ],
   "source": [
    "plt.plot(history.history['accuracy'])\n",
    "plt.plot(history.history['val_accuracy'])\n",
    "plt.legend(['Training Accuracy', 'Validation Accuracy'], loc='lower right')"
   ]
  },
  {
   "cell_type": "code",
   "execution_count": 43,
   "metadata": {
    "colab": {},
    "colab_type": "code",
    "executionInfo": {
     "elapsed": 149886,
     "status": "ok",
     "timestamp": 1593534114291,
     "user": {
      "displayName": "Akshat Mehrotra",
      "photoUrl": "",
      "userId": "10317595721459140232"
     },
     "user_tz": -330
    },
    "id": "R732oG0CxbP7"
   },
   "outputs": [],
   "source": [
    "dictionary = {}\n",
    "id = []\n",
    "has_cactus = []\n",
    "\n",
    "for images in os.listdir('/content/drive/My Drive/Colab Notebooks/Aerial Cactus identification/test/'):\n",
    "\n",
    "  image = cv.imread('/content/drive/My Drive/Colab Notebooks/Aerial Cactus identification/test/' + images)\n",
    "  image = cv.cvtColor(image, cv.COLOR_BGR2RGB)\n",
    "  image = cv.resize(image, (32, 32))\n",
    "  image = image.astype('float32')/255.0\n",
    "  image = image.reshape((1, 32, 32, 3))\n",
    "\n",
    "  prediction = model.predict_classes(image)[0]\n",
    "\n",
    "  id.append(images)\n",
    "  has_cactus.append(prediction)\n",
    "\n",
    "\n",
    "dictionary['id'] = id\n",
    "dictionary['has_cactus'] = has_cactus"
   ]
  },
  {
   "cell_type": "code",
   "execution_count": 44,
   "metadata": {
    "colab": {
     "base_uri": "https://localhost:8080/",
     "height": 190
    },
    "colab_type": "code",
    "executionInfo": {
     "elapsed": 133147,
     "status": "ok",
     "timestamp": 1593534114291,
     "user": {
      "displayName": "Akshat Mehrotra",
      "photoUrl": "",
      "userId": "10317595721459140232"
     },
     "user_tz": -330
    },
    "id": "zW03m_hVyxGj",
    "outputId": "c7250853-4ed7-4132-cd52-58bff3d47614"
   },
   "outputs": [
    {
     "data": {
      "text/html": [
       "<div>\n",
       "<style scoped>\n",
       "    .dataframe tbody tr th:only-of-type {\n",
       "        vertical-align: middle;\n",
       "    }\n",
       "\n",
       "    .dataframe tbody tr th {\n",
       "        vertical-align: top;\n",
       "    }\n",
       "\n",
       "    .dataframe thead th {\n",
       "        text-align: right;\n",
       "    }\n",
       "</style>\n",
       "<table border=\"1\" class=\"dataframe\">\n",
       "  <thead>\n",
       "    <tr style=\"text-align: right;\">\n",
       "      <th></th>\n",
       "      <th>id</th>\n",
       "      <th>has_cactus</th>\n",
       "    </tr>\n",
       "  </thead>\n",
       "  <tbody>\n",
       "    <tr>\n",
       "      <th>0</th>\n",
       "      <td>e3f0ecacde01a12eb82ea91017682d53.jpg</td>\n",
       "      <td>1</td>\n",
       "    </tr>\n",
       "    <tr>\n",
       "      <th>1</th>\n",
       "      <td>e43b0f272e0d5ff7aaf0812738331643.jpg</td>\n",
       "      <td>1</td>\n",
       "    </tr>\n",
       "    <tr>\n",
       "      <th>2</th>\n",
       "      <td>e3cf3730a09e4f0267ba7b1c21c4b707.jpg</td>\n",
       "      <td>1</td>\n",
       "    </tr>\n",
       "    <tr>\n",
       "      <th>3</th>\n",
       "      <td>e3d1e1b38264c74a2f9b4aab9398d5c0.jpg</td>\n",
       "      <td>0</td>\n",
       "    </tr>\n",
       "    <tr>\n",
       "      <th>4</th>\n",
       "      <td>e4531911f1176c47d7caa585cf65d01c.jpg</td>\n",
       "      <td>1</td>\n",
       "    </tr>\n",
       "  </tbody>\n",
       "</table>\n",
       "</div>"
      ],
      "text/plain": [
       "                                     id  has_cactus\n",
       "0  e3f0ecacde01a12eb82ea91017682d53.jpg           1\n",
       "1  e43b0f272e0d5ff7aaf0812738331643.jpg           1\n",
       "2  e3cf3730a09e4f0267ba7b1c21c4b707.jpg           1\n",
       "3  e3d1e1b38264c74a2f9b4aab9398d5c0.jpg           0\n",
       "4  e4531911f1176c47d7caa585cf65d01c.jpg           1"
      ]
     },
     "execution_count": 44,
     "metadata": {
      "tags": []
     },
     "output_type": "execute_result"
    }
   ],
   "source": [
    "sub_df = pd.DataFrame(dictionary)\n",
    "sub_df.head()"
   ]
  },
  {
   "cell_type": "code",
   "execution_count": 46,
   "metadata": {
    "colab": {},
    "colab_type": "code",
    "executionInfo": {
     "elapsed": 1195,
     "status": "ok",
     "timestamp": 1593534481332,
     "user": {
      "displayName": "Akshat Mehrotra",
      "photoUrl": "",
      "userId": "10317595721459140232"
     },
     "user_tz": -330
    },
    "id": "07fZnJSPtUwq"
   },
   "outputs": [],
   "source": [
    "sub_df.to_csv('/content/drive/My Drive/Colab Notebooks/Aerial Cactus identification/submission.csv')"
   ]
  },
  {
   "cell_type": "code",
   "execution_count": null,
   "metadata": {
    "colab": {},
    "colab_type": "code",
    "id": "uCJvIYk4Dga5"
   },
   "outputs": [],
   "source": []
  }
 ],
 "metadata": {
  "accelerator": "GPU",
  "colab": {
   "authorship_tag": "ABX9TyOlKuYMcfrvtWG9yc3uOI0j",
   "mount_file_id": "1rXEI0VsX5GWhY2vYsNmso_EGPnmCQHNN",
   "name": "Aerial Cactus Classification.ipynb",
   "provenance": []
  },
  "kernelspec": {
   "display_name": "Python 3",
   "language": "python",
   "name": "python3"
  },
  "language_info": {
   "codemirror_mode": {
    "name": "ipython",
    "version": 3
   },
   "file_extension": ".py",
   "mimetype": "text/x-python",
   "name": "python",
   "nbconvert_exporter": "python",
   "pygments_lexer": "ipython3",
   "version": "3.7.7"
  }
 },
 "nbformat": 4,
 "nbformat_minor": 1
}
