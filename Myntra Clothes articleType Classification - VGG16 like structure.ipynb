{
 "cells": [
  {
   "cell_type": "code",
   "execution_count": 1,
   "metadata": {},
   "outputs": [],
   "source": [
    "import pandas as pd\n",
    "import numpy as np\n",
    "import cv2 as cv\n",
    "import os"
   ]
  },
  {
   "cell_type": "code",
   "execution_count": 2,
   "metadata": {},
   "outputs": [],
   "source": [
    "path = 'D:/Image Classification Self/Data/Myntra Dataset/myntradataset/'"
   ]
  },
  {
   "cell_type": "code",
   "execution_count": 3,
   "metadata": {},
   "outputs": [
    {
     "name": "stdout",
     "output_type": "stream",
     "text": [
      "(44446, 12)\n"
     ]
    },
    {
     "data": {
      "text/html": [
       "<div>\n",
       "<style scoped>\n",
       "    .dataframe tbody tr th:only-of-type {\n",
       "        vertical-align: middle;\n",
       "    }\n",
       "\n",
       "    .dataframe tbody tr th {\n",
       "        vertical-align: top;\n",
       "    }\n",
       "\n",
       "    .dataframe thead th {\n",
       "        text-align: right;\n",
       "    }\n",
       "</style>\n",
       "<table border=\"1\" class=\"dataframe\">\n",
       "  <thead>\n",
       "    <tr style=\"text-align: right;\">\n",
       "      <th></th>\n",
       "      <th>id</th>\n",
       "      <th>gender</th>\n",
       "      <th>masterCategory</th>\n",
       "      <th>subCategory</th>\n",
       "      <th>articleType</th>\n",
       "      <th>baseColour</th>\n",
       "      <th>season</th>\n",
       "      <th>year</th>\n",
       "      <th>usage</th>\n",
       "      <th>productDisplayName</th>\n",
       "      <th>Unnamed: 10</th>\n",
       "      <th>Unnamed: 11</th>\n",
       "    </tr>\n",
       "  </thead>\n",
       "  <tbody>\n",
       "    <tr>\n",
       "      <th>0</th>\n",
       "      <td>15970.0</td>\n",
       "      <td>Men</td>\n",
       "      <td>Apparel</td>\n",
       "      <td>Topwear</td>\n",
       "      <td>Shirts</td>\n",
       "      <td>Navy Blue</td>\n",
       "      <td>Fall</td>\n",
       "      <td>2011.0</td>\n",
       "      <td>Casual</td>\n",
       "      <td>Turtle Check Men Navy Blue Shirt</td>\n",
       "      <td>NaN</td>\n",
       "      <td>NaN</td>\n",
       "    </tr>\n",
       "    <tr>\n",
       "      <th>1</th>\n",
       "      <td>39386.0</td>\n",
       "      <td>Men</td>\n",
       "      <td>Apparel</td>\n",
       "      <td>Bottomwear</td>\n",
       "      <td>Jeans</td>\n",
       "      <td>Blue</td>\n",
       "      <td>Summer</td>\n",
       "      <td>2012.0</td>\n",
       "      <td>Casual</td>\n",
       "      <td>Peter England Men Party Blue Jeans</td>\n",
       "      <td>NaN</td>\n",
       "      <td>NaN</td>\n",
       "    </tr>\n",
       "    <tr>\n",
       "      <th>2</th>\n",
       "      <td>59263.0</td>\n",
       "      <td>Women</td>\n",
       "      <td>Accessories</td>\n",
       "      <td>Watches</td>\n",
       "      <td>Watches</td>\n",
       "      <td>Silver</td>\n",
       "      <td>Winter</td>\n",
       "      <td>2016.0</td>\n",
       "      <td>Casual</td>\n",
       "      <td>Titan Women Silver Watch</td>\n",
       "      <td>NaN</td>\n",
       "      <td>NaN</td>\n",
       "    </tr>\n",
       "    <tr>\n",
       "      <th>3</th>\n",
       "      <td>21379.0</td>\n",
       "      <td>Men</td>\n",
       "      <td>Apparel</td>\n",
       "      <td>Bottomwear</td>\n",
       "      <td>Track Pants</td>\n",
       "      <td>Black</td>\n",
       "      <td>Fall</td>\n",
       "      <td>2011.0</td>\n",
       "      <td>Casual</td>\n",
       "      <td>Manchester United Men Solid Black Track Pants</td>\n",
       "      <td>NaN</td>\n",
       "      <td>NaN</td>\n",
       "    </tr>\n",
       "    <tr>\n",
       "      <th>4</th>\n",
       "      <td>53759.0</td>\n",
       "      <td>Men</td>\n",
       "      <td>Apparel</td>\n",
       "      <td>Topwear</td>\n",
       "      <td>Tshirts</td>\n",
       "      <td>Grey</td>\n",
       "      <td>Summer</td>\n",
       "      <td>2012.0</td>\n",
       "      <td>Casual</td>\n",
       "      <td>Puma Men Grey T-shirt</td>\n",
       "      <td>NaN</td>\n",
       "      <td>NaN</td>\n",
       "    </tr>\n",
       "  </tbody>\n",
       "</table>\n",
       "</div>"
      ],
      "text/plain": [
       "        id gender masterCategory subCategory  articleType baseColour  season  \\\n",
       "0  15970.0    Men        Apparel     Topwear       Shirts  Navy Blue    Fall   \n",
       "1  39386.0    Men        Apparel  Bottomwear        Jeans       Blue  Summer   \n",
       "2  59263.0  Women    Accessories     Watches      Watches     Silver  Winter   \n",
       "3  21379.0    Men        Apparel  Bottomwear  Track Pants      Black    Fall   \n",
       "4  53759.0    Men        Apparel     Topwear      Tshirts       Grey  Summer   \n",
       "\n",
       "     year   usage                             productDisplayName Unnamed: 10  \\\n",
       "0  2011.0  Casual               Turtle Check Men Navy Blue Shirt         NaN   \n",
       "1  2012.0  Casual             Peter England Men Party Blue Jeans         NaN   \n",
       "2  2016.0  Casual                       Titan Women Silver Watch         NaN   \n",
       "3  2011.0  Casual  Manchester United Men Solid Black Track Pants         NaN   \n",
       "4  2012.0  Casual                          Puma Men Grey T-shirt         NaN   \n",
       "\n",
       "  Unnamed: 11  \n",
       "0         NaN  \n",
       "1         NaN  \n",
       "2         NaN  \n",
       "3         NaN  \n",
       "4         NaN  "
      ]
     },
     "execution_count": 3,
     "metadata": {},
     "output_type": "execute_result"
    }
   ],
   "source": [
    "data = pd.read_csv(path + 'styles.csv')\n",
    "print(data.shape)\n",
    "data.head()"
   ]
  },
  {
   "cell_type": "code",
   "execution_count": 4,
   "metadata": {},
   "outputs": [
    {
     "name": "stdout",
     "output_type": "stream",
     "text": [
      "(44445, 2)\n"
     ]
    },
    {
     "data": {
      "text/html": [
       "<div>\n",
       "<style scoped>\n",
       "    .dataframe tbody tr th:only-of-type {\n",
       "        vertical-align: middle;\n",
       "    }\n",
       "\n",
       "    .dataframe tbody tr th {\n",
       "        vertical-align: top;\n",
       "    }\n",
       "\n",
       "    .dataframe thead th {\n",
       "        text-align: right;\n",
       "    }\n",
       "</style>\n",
       "<table border=\"1\" class=\"dataframe\">\n",
       "  <thead>\n",
       "    <tr style=\"text-align: right;\">\n",
       "      <th></th>\n",
       "      <th>id</th>\n",
       "      <th>articleType</th>\n",
       "    </tr>\n",
       "  </thead>\n",
       "  <tbody>\n",
       "    <tr>\n",
       "      <th>0</th>\n",
       "      <td>34244.0</td>\n",
       "      <td>Tshirts</td>\n",
       "    </tr>\n",
       "    <tr>\n",
       "      <th>1</th>\n",
       "      <td>36320.0</td>\n",
       "      <td>Tshirts</td>\n",
       "    </tr>\n",
       "    <tr>\n",
       "      <th>2</th>\n",
       "      <td>43085.0</td>\n",
       "      <td>Tshirts</td>\n",
       "    </tr>\n",
       "    <tr>\n",
       "      <th>3</th>\n",
       "      <td>31211.0</td>\n",
       "      <td>Sports Shoes</td>\n",
       "    </tr>\n",
       "    <tr>\n",
       "      <th>4</th>\n",
       "      <td>26352.0</td>\n",
       "      <td>Watches</td>\n",
       "    </tr>\n",
       "    <tr>\n",
       "      <th>...</th>\n",
       "      <td>...</td>\n",
       "      <td>...</td>\n",
       "    </tr>\n",
       "    <tr>\n",
       "      <th>44440</th>\n",
       "      <td>45360.0</td>\n",
       "      <td>Heels</td>\n",
       "    </tr>\n",
       "    <tr>\n",
       "      <th>44441</th>\n",
       "      <td>20783.0</td>\n",
       "      <td>Flats</td>\n",
       "    </tr>\n",
       "    <tr>\n",
       "      <th>44442</th>\n",
       "      <td>43878.0</td>\n",
       "      <td>Casual Shoes</td>\n",
       "    </tr>\n",
       "    <tr>\n",
       "      <th>44443</th>\n",
       "      <td>28863.0</td>\n",
       "      <td>Tshirts</td>\n",
       "    </tr>\n",
       "    <tr>\n",
       "      <th>44444</th>\n",
       "      <td>59106.0</td>\n",
       "      <td>Jackets</td>\n",
       "    </tr>\n",
       "  </tbody>\n",
       "</table>\n",
       "<p>44445 rows × 2 columns</p>\n",
       "</div>"
      ],
      "text/plain": [
       "            id   articleType\n",
       "0      34244.0       Tshirts\n",
       "1      36320.0       Tshirts\n",
       "2      43085.0       Tshirts\n",
       "3      31211.0  Sports Shoes\n",
       "4      26352.0       Watches\n",
       "...        ...           ...\n",
       "44440  45360.0         Heels\n",
       "44441  20783.0         Flats\n",
       "44442  43878.0  Casual Shoes\n",
       "44443  28863.0       Tshirts\n",
       "44444  59106.0       Jackets\n",
       "\n",
       "[44445 rows x 2 columns]"
      ]
     },
     "execution_count": 4,
     "metadata": {},
     "output_type": "execute_result"
    }
   ],
   "source": [
    "data_req = data.loc[:, ('id', 'articleType')]\n",
    "data_req = data_req.dropna(axis=0).reset_index(drop=True)\n",
    "data_req = data_req.sample(frac=1).reset_index(drop=True)\n",
    "print(data_req.shape)\n",
    "data_req"
   ]
  },
  {
   "cell_type": "code",
   "execution_count": 5,
   "metadata": {},
   "outputs": [
    {
     "name": "stdout",
     "output_type": "stream",
     "text": [
      "Tshirts\n"
     ]
    },
    {
     "data": {
      "text/plain": [
       "<matplotlib.image.AxesImage at 0x2259eedff48>"
      ]
     },
     "execution_count": 5,
     "metadata": {},
     "output_type": "execute_result"
    },
    {
     "data": {
      "image/png": "[encoded data removed]",
      "text/plain": [
       "<Figure size 432x288 with 1 Axes>"
      ]
     },
     "metadata": {
      "needs_background": "light"
     },
     "output_type": "display_data"
    }
   ],
   "source": [
    "import matplotlib.pyplot as plt\n",
    "\n",
    "print(data_req['articleType'][0])\n",
    "plt.imshow(cv.cvtColor(cv.imread(path + 'images/' + str(int(data_req['id'][0])) + '.jpg'), cv.COLOR_BGR2RGB))"
   ]
  },
  {
   "cell_type": "code",
   "execution_count": 6,
   "metadata": {},
   "outputs": [
    {
     "name": "stdout",
     "output_type": "stream",
     "text": [
      "Tshirts\n"
     ]
    },
    {
     "data": {
      "text/plain": [
       "<matplotlib.image.AxesImage at 0x2259f71e308>"
      ]
     },
     "execution_count": 6,
     "metadata": {},
     "output_type": "execute_result"
    },
    {
     "data": {
      "image/png": "[encoded data removed]",
      "text/plain": [
       "<Figure size 432x288 with 1 Axes>"
      ]
     },
     "metadata": {
      "needs_background": "light"
     },
     "output_type": "display_data"
    }
   ],
   "source": [
    "print(data_req['articleType'][1])\n",
    "plt.imshow(cv.cvtColor(cv.imread(path + 'images/' + str(int(data_req['id'][1])) + '.jpg'), cv.COLOR_BGR2RGB))"
   ]
  },
  {
   "cell_type": "code",
   "execution_count": 7,
   "metadata": {},
   "outputs": [
    {
     "name": "stdout",
     "output_type": "stream",
     "text": [
      "Sports Shoes\n"
     ]
    },
    {
     "data": {
      "text/plain": [
       "<matplotlib.image.AxesImage at 0x2259f78e408>"
      ]
     },
     "execution_count": 7,
     "metadata": {},
     "output_type": "execute_result"
    },
    {
     "data": {
      "image/png": "[encoded data removed]",
      "text/plain": [
       "<Figure size 432x288 with 1 Axes>"
      ]
     },
     "metadata": {
      "needs_background": "light"
     },
     "output_type": "display_data"
    }
   ],
   "source": [
    "print(data_req['articleType'][3])\n",
    "plt.imshow(cv.cvtColor(cv.imread(path + 'images/' + str(int(data_req['id'][3])) + '.jpg'), cv.COLOR_BGR2RGB))"
   ]
  },
  {
   "cell_type": "code",
   "execution_count": 8,
   "metadata": {},
   "outputs": [
    {
     "name": "stdout",
     "output_type": "stream",
     "text": [
      "Mascara\n"
     ]
    },
    {
     "data": {
      "text/plain": [
       "<matplotlib.image.AxesImage at 0x2259f7c59c8>"
      ]
     },
     "execution_count": 8,
     "metadata": {},
     "output_type": "execute_result"
    },
    {
     "data": {
      "image/png": "[encoded data removed]",
      "text/plain": [
       "<Figure size 432x288 with 1 Axes>"
      ]
     },
     "metadata": {
      "needs_background": "light"
     },
     "output_type": "display_data"
    }
   ],
   "source": [
    "print(data_req['articleType'][1001])\n",
    "plt.imshow(cv.cvtColor(cv.imread(path + 'images/' + str(int(data_req['id'][1001])) + '.jpg'), cv.COLOR_BGR2RGB))"
   ]
  },
  {
   "cell_type": "code",
   "execution_count": 9,
   "metadata": {},
   "outputs": [],
   "source": [
    "classes = {'Accessory Gift Set':0, 'Baby Dolls':1, 'Backpacks':2, 'Bangle':3,\n",
    "       'Basketballs':4, 'Bath Robe':5, 'Beauty Accessory':6, 'Belts':7, 'Blazers':8,\n",
    "       'Body Lotion':9, 'Body Wash and Scrub':10, 'Booties':11, 'Boxers':12, 'Bra':13,\n",
    "       'Bracelet':14, 'Briefs':15, 'Camisoles':16, 'Capris':17, 'Caps':18,\n",
    "       'Casual Shoes':19, 'Churidar':20, 'Clothing Set':21, 'Clutches':22, 'Compact':23,\n",
    "       'Concealer':24, 'Cufflinks':25, 'Cushion Covers':26, 'Deodorant':27, 'Dresses':28,\n",
    "       'Duffel Bag':29, 'Dupatta':30, 'Earrings':31, 'Eye Cream':32, 'Eyeshadow':33,\n",
    "       'Face Moisturisers':34, 'Face Scrub and Exfoliator':35,\n",
    "       'Face Serum and Gel':36, 'Face Wash and Cleanser':37, 'Flats':38,\n",
    "       'Flip Flops':39, 'Footballs':40, 'Formal Shoes':41, 'Foundation and Primer':42,\n",
    "       'Fragrance Gift Set':43, 'Free Gifts':44, 'Gloves':45, 'Hair Accessory':46,\n",
    "       'Hair Colour':47, 'Handbags':48, 'Hat':49, 'Headband':50, 'Heels':51,\n",
    "       'Highlighter and Blush':52, 'Innerwear Vests':53, 'Ipad':54, 'Jackets':55,\n",
    "       'Jeans':56, 'Jeggings':57, 'Jewellery Set':58, 'Jumpsuit':59,\n",
    "       'Kajal and Eyeliner':60, 'Key chain':61, 'Kurta Sets':62, 'Kurtas':63,\n",
    "       'Kurtis':64, 'Laptop Bag':65, 'Leggings':66, 'Lehenga Choli':67, 'Lip Care':68,\n",
    "       'Lip Gloss':69, 'Lip Liner':70, 'Lip Plumper':71, 'Lipstick':72,\n",
    "       'Lounge Pants':73, 'Lounge Shorts':74, 'Lounge Tshirts':75,\n",
    "       'Makeup Remover':76, 'Mascara':77, 'Mask and Peel':78, 'Mens Grooming Kit':79,\n",
    "       'Messenger Bag':80, 'Mobile Pouch':81, 'Mufflers':82, 'Nail Essentials':83,\n",
    "       'Nail Polish':84, 'Necklace and Chains':85, 'Nehru Jackets':86,\n",
    "       'Night suits':87, 'Nightdress':88, 'Patiala':89, 'Pendant':90,\n",
    "       'Perfume and Body Mist':91, 'Rain Jacket':92, 'Rain Trousers':93, 'Ring':94,\n",
    "       'Robe':95, 'Rompers':96, 'Rucksacks':97, 'Salwar':98, 'Salwar and Dupatta':99,\n",
    "       'Sandals':100, 'Sarees':101, 'Scarves':102, 'Shapewear':103, 'Shirts':104,\n",
    "       'Shoe Accessories':105, 'Shoe Laces':106, 'Shorts':107, 'Shrug':108, 'Skirts':109,\n",
    "       'Socks':110, 'Sports Sandals':111, 'Sports Shoes':112, 'Stockings':113, 'Stoles':114,\n",
    "       'Suits':115, 'Sunglasses':116, 'Sunscreen':117, 'Suspenders':118, 'Sweaters':119,\n",
    "       'Sweatshirts':120, 'Swimwear':121, 'Tablet Sleeve':122, 'Ties':123,\n",
    "       'Ties and Cufflinks':124, 'Tights':125, 'Toner':126, 'Tops':127, 'Track Pants':128,\n",
    "       'Tracksuits':129, 'Travel Accessory':130, 'Trolley Bag':131, 'Trousers':132,\n",
    "       'Trunk':133, 'Tshirts':134, 'Tunics':135, 'Umbrellas':136, 'Waist Pouch':137,\n",
    "       'Waistcoat':138, 'Wallets':139, 'Watches':140, 'Water Bottle':141, 'Wristbands':142}"
   ]
  },
  {
   "cell_type": "code",
   "execution_count": 10,
   "metadata": {},
   "outputs": [],
   "source": [
    "images = []\n",
    "labels = []\n",
    "\n",
    "def load_data(dataset):\n",
    "    for i in range(len(dataset)):\n",
    "        image = cv.imread(path + 'images/' + str(int(dataset['id'][i])) + '.jpg')\n",
    "        if image is None:\n",
    "            continue\n",
    "        image = cv.cvtColor(image, cv.COLOR_BGR2RGB)\n",
    "        image = cv.resize(image, (60, 80))\n",
    "        image = image.astype('float32')/255.0\n",
    "        label = classes[dataset['articleType'][i]]\n",
    "        images.append(image)\n",
    "        labels.append(label)\n",
    "    images_r = np.array(images)\n",
    "    labels_r = np.array(labels)\n",
    "    return images_r, labels_r"
   ]
  },
  {
   "cell_type": "code",
   "execution_count": 11,
   "metadata": {},
   "outputs": [],
   "source": [
    "images, labels = load_data(data_req)"
   ]
  },
  {
   "cell_type": "code",
   "execution_count": 12,
   "metadata": {},
   "outputs": [
    {
     "data": {
      "text/plain": [
       "((44440, 80, 60, 3), (44440,))"
      ]
     },
     "execution_count": 12,
     "metadata": {},
     "output_type": "execute_result"
    }
   ],
   "source": [
    "images.shape, labels.shape"
   ]
  },
  {
   "cell_type": "code",
   "execution_count": 13,
   "metadata": {},
   "outputs": [
    {
     "data": {
      "text/plain": [
       "<matplotlib.image.AxesImage at 0x2259f8734c8>"
      ]
     },
     "execution_count": 13,
     "metadata": {},
     "output_type": "execute_result"
    },
    {
     "data": {
      "image/png": "[encoded data removed]",
      "text/plain": [
       "<Figure size 432x288 with 1 Axes>"
      ]
     },
     "metadata": {
      "needs_background": "light"
     },
     "output_type": "display_data"
    }
   ],
   "source": [
    "plt.imshow(images[0])"
   ]
  },
  {
   "cell_type": "code",
   "execution_count": 14,
   "metadata": {},
   "outputs": [],
   "source": [
    "from tensorflow.keras.utils import to_categorical\n",
    "from sklearn.model_selection import train_test_split"
   ]
  },
  {
   "cell_type": "code",
   "execution_count": 15,
   "metadata": {},
   "outputs": [],
   "source": [
    "X_train, X_test, Y_train, Y_test = train_test_split(images, labels, test_size=0.1, random_state=10)"
   ]
  },
  {
   "cell_type": "code",
   "execution_count": 16,
   "metadata": {},
   "outputs": [
    {
     "name": "stdout",
     "output_type": "stream",
     "text": [
      "(39996, 80, 60, 3) (4444, 80, 60, 3) (39996, 143) (4444, 143)\n"
     ]
    }
   ],
   "source": [
    "Y_train_req = to_categorical(Y_train)\n",
    "Y_test_req = to_categorical(Y_test)\n",
    "\n",
    "print(X_train.shape, X_test.shape, Y_train_req.shape, Y_test_req.shape)"
   ]
  },
  {
   "cell_type": "code",
   "execution_count": 17,
   "metadata": {},
   "outputs": [],
   "source": [
    "from tensorflow.keras.preprocessing.image import ImageDataGenerator\n",
    "\n",
    "augmentor = ImageDataGenerator(width_shift_range=0.1, height_shift_range=0.1, zoom_range=0.1, horizontal_flip=True, validation_split=0.1)\n",
    "\n",
    "train_batches = augmentor.flow(X_train, Y_train_req, shuffle=True, subset='training')\n",
    "val_batches = augmentor.flow(X_train, Y_train_req, shuffle=True, subset='validation')"
   ]
  },
  {
   "cell_type": "code",
   "execution_count": 18,
   "metadata": {},
   "outputs": [],
   "source": [
    "from tensorflow.keras.layers import Conv2D, Input, Flatten, Dense, MaxPooling2D, BatchNormalization, Dropout\n",
    "from tensorflow.keras.models import Sequential"
   ]
  },
  {
   "cell_type": "code",
   "execution_count": 33,
   "metadata": {},
   "outputs": [],
   "source": [
    "model = Sequential()\n",
    "model.add(Input((80, 60, 3)))\n",
    "\n",
    "model.add(Conv2D(16, (3,3), strides=1, padding='same', kernel_initializer='glorot_normal', activation='relu'))\n",
    "model.add(Conv2D(16, (3,3), strides=1, padding='same', kernel_initializer='glorot_normal', activation='relu'))\n",
    "model.add(BatchNormalization(axis=3))\n",
    "model.add(MaxPooling2D((2,2), strides=2))\n",
    "\n",
    "model.add(Conv2D(32, (3,3), strides=1, padding='same', kernel_initializer='glorot_normal', activation='relu'))\n",
    "model.add(Conv2D(32, (3,3), strides=1, padding='same', kernel_initializer='glorot_normal', activation='relu'))\n",
    "model.add(BatchNormalization(axis=3))\n",
    "model.add(MaxPooling2D((2,2), strides=2))\n",
    "\n",
    "model.add(Conv2D(64, (3,3), strides=1, padding='same', kernel_initializer='glorot_normal', activation='relu'))\n",
    "model.add(Conv2D(64, (3,3), strides=1, padding='same', kernel_initializer='glorot_normal', activation='relu'))\n",
    "model.add(Conv2D(64, (3,3), strides=1, padding='same', kernel_initializer='glorot_normal', activation='relu'))\n",
    "model.add(BatchNormalization(axis=3))\n",
    "model.add(MaxPooling2D((2,2), strides=2))\n",
    "\n",
    "model.add(Conv2D(128, (3,3), strides=1, padding='same', kernel_initializer='glorot_normal', activation='relu'))\n",
    "model.add(Conv2D(128, (3,3), strides=1, padding='same', kernel_initializer='glorot_normal', activation='relu'))\n",
    "model.add(Conv2D(128, (3,3), strides=1, padding='same', kernel_initializer='glorot_normal', activation='relu'))\n",
    "model.add(BatchNormalization(axis=3))\n",
    "model.add(MaxPooling2D((2,2), strides=2))\n",
    "\n",
    "model.add(Flatten())\n",
    "\n",
    "# model.add(Dense(512, kernel_initializer='glorot_normal', activation='relu'))\n",
    "model.add(Dense(143, activation='softmax'))"
   ]
  },
  {
   "cell_type": "code",
   "execution_count": 34,
   "metadata": {},
   "outputs": [
    {
     "name": "stdout",
     "output_type": "stream",
     "text": [
      "Model: \"sequential_1\"\n",
      "_________________________________________________________________\n",
      "Layer (type)                 Output Shape              Param #   \n",
      "=================================================================\n",
      "conv2d_10 (Conv2D)           (None, 80, 60, 16)        448       \n",
      "_________________________________________________________________\n",
      "conv2d_11 (Conv2D)           (None, 80, 60, 16)        2320      \n",
      "_________________________________________________________________\n",
      "batch_normalization_4 (Batch (None, 80, 60, 16)        64        \n",
      "_________________________________________________________________\n",
      "max_pooling2d_4 (MaxPooling2 (None, 40, 30, 16)        0         \n",
      "_________________________________________________________________\n",
      "conv2d_12 (Conv2D)           (None, 40, 30, 32)        4640      \n",
      "_________________________________________________________________\n",
      "conv2d_13 (Conv2D)           (None, 40, 30, 32)        9248      \n",
      "_________________________________________________________________\n",
      "batch_normalization_5 (Batch (None, 40, 30, 32)        128       \n",
      "_________________________________________________________________\n",
      "max_pooling2d_5 (MaxPooling2 (None, 20, 15, 32)        0         \n",
      "_________________________________________________________________\n",
      "conv2d_14 (Conv2D)           (None, 20, 15, 64)        18496     \n",
      "_________________________________________________________________\n",
      "conv2d_15 (Conv2D)           (None, 20, 15, 64)        36928     \n",
      "_________________________________________________________________\n",
      "conv2d_16 (Conv2D)           (None, 20, 15, 64)        36928     \n",
      "_________________________________________________________________\n",
      "batch_normalization_6 (Batch (None, 20, 15, 64)        256       \n",
      "_________________________________________________________________\n",
      "max_pooling2d_6 (MaxPooling2 (None, 10, 7, 64)         0         \n",
      "_________________________________________________________________\n",
      "conv2d_17 (Conv2D)           (None, 10, 7, 128)        73856     \n",
      "_________________________________________________________________\n",
      "conv2d_18 (Conv2D)           (None, 10, 7, 128)        147584    \n",
      "_________________________________________________________________\n",
      "conv2d_19 (Conv2D)           (None, 10, 7, 128)        147584    \n",
      "_________________________________________________________________\n",
      "batch_normalization_7 (Batch (None, 10, 7, 128)        512       \n",
      "_________________________________________________________________\n",
      "max_pooling2d_7 (MaxPooling2 (None, 5, 3, 128)         0         \n",
      "_________________________________________________________________\n",
      "flatten_1 (Flatten)          (None, 1920)              0         \n",
      "_________________________________________________________________\n",
      "dense_2 (Dense)              (None, 143)               274703    \n",
      "=================================================================\n",
      "Total params: 753,695\n",
      "Trainable params: 753,215\n",
      "Non-trainable params: 480\n",
      "_________________________________________________________________\n"
     ]
    }
   ],
   "source": [
    "model.summary()"
   ]
  },
  {
   "cell_type": "code",
   "execution_count": 35,
   "metadata": {},
   "outputs": [],
   "source": [
    "from tensorflow.keras.callbacks import ModelCheckpoint\n",
    "\n",
    "cp = ModelCheckpoint(save_best_only=True, monitor='val_accuracy', mode='max', patience=20, filepath='D:/Image Classification Self/Data/Myntra Dataset/myntradataset/myntra_clothes_articletype_classification.h5')"
   ]
  },
  {
   "cell_type": "code",
   "execution_count": 36,
   "metadata": {},
   "outputs": [],
   "source": [
    "model.compile(loss='categorical_crossentropy', optimizer='adam', metrics=['accuracy'])"
   ]
  },
  {
   "cell_type": "code",
   "execution_count": null,
   "metadata": {},
   "outputs": [
    {
     "name": "stdout",
     "output_type": "stream",
     "text": [
      "WARNING:tensorflow:sample_weight modes were coerced from\n",
      "  ...\n",
      "    to  \n",
      "  ['...']\n",
      "WARNING:tensorflow:sample_weight modes were coerced from\n",
      "  ...\n",
      "    to  \n",
      "  ['...']\n",
      "Train for 1124 steps, validate for 125 steps\n",
      "Epoch 1/100\n",
      "1124/1124 [==============================] - 249s 222ms/step - loss: 1.6617 - accuracy: 0.5595 - val_loss: 1.5602 - val_accuracy: 0.5856\n",
      "Epoch 2/100\n",
      "1124/1124 [==============================] - 248s 221ms/step - loss: 1.0010 - accuracy: 0.7047 - val_loss: 1.1881 - val_accuracy: 0.6547\n",
      "Epoch 3/100\n",
      "1124/1124 [==============================] - 248s 220ms/step - loss: 0.8388 - accuracy: 0.7458 - val_loss: 1.9996 - val_accuracy: 0.5531\n",
      "Epoch 4/100\n",
      "1124/1124 [==============================] - 249s 221ms/step - loss: 0.7482 - accuracy: 0.7659 - val_loss: 0.8385 - val_accuracy: 0.7407\n",
      "Epoch 5/100\n",
      "1124/1124 [==============================] - 248s 221ms/step - loss: 0.6802 - accuracy: 0.7837 - val_loss: 0.7916 - val_accuracy: 0.7587\n",
      "Epoch 6/100\n",
      "1124/1124 [==============================] - 261s 232ms/step - loss: 0.6368 - accuracy: 0.7965 - val_loss: 0.8773 - val_accuracy: 0.7392\n",
      "Epoch 7/100\n",
      "1124/1124 [==============================] - 258s 229ms/step - loss: 0.5923 - accuracy: 0.8083 - val_loss: 0.8153 - val_accuracy: 0.7577\n",
      "Epoch 8/100\n",
      "1124/1124 [==============================] - 254s 226ms/step - loss: 0.5567 - accuracy: 0.8175 - val_loss: 1.4321 - val_accuracy: 0.6159\n",
      "Epoch 9/100\n",
      "1124/1124 [==============================] - 258s 230ms/step - loss: 0.5313 - accuracy: 0.8242 - val_loss: 0.7184 - val_accuracy: 0.7859\n",
      "Epoch 10/100\n",
      "1124/1124 [==============================] - 265s 236ms/step - loss: 0.5052 - accuracy: 0.8321 - val_loss: 0.6659 - val_accuracy: 0.7884\n",
      "Epoch 11/100\n",
      "1124/1124 [==============================] - 258s 230ms/step - loss: 0.4839 - accuracy: 0.8373 - val_loss: 0.6119 - val_accuracy: 0.8165\n",
      "Epoch 12/100\n",
      "1124/1124 [==============================] - 257s 229ms/step - loss: 0.4640 - accuracy: 0.8422 - val_loss: 0.7843 - val_accuracy: 0.7697\n",
      "Epoch 13/100\n",
      "1124/1124 [==============================] - 262s 233ms/step - loss: 0.4388 - accuracy: 0.8506 - val_loss: 0.6314 - val_accuracy: 0.8070\n",
      "Epoch 14/100\n",
      "1124/1124 [==============================] - 259s 230ms/step - loss: 0.4243 - accuracy: 0.8540 - val_loss: 1.2362 - val_accuracy: 0.6854\n",
      "Epoch 15/100\n",
      "1124/1124 [==============================] - 261s 232ms/step - loss: 0.4066 - accuracy: 0.8612 - val_loss: 1.3435 - val_accuracy: 0.6929\n",
      "Epoch 16/100\n",
      "1124/1124 [==============================] - 260s 232ms/step - loss: 0.3938 - accuracy: 0.8630 - val_loss: 0.7451 - val_accuracy: 0.7797\n",
      "Epoch 17/100\n",
      "1124/1124 [==============================] - 260s 231ms/step - loss: 0.3843 - accuracy: 0.8667 - val_loss: 2.1105 - val_accuracy: 0.5521\n",
      "Epoch 18/100\n",
      "1124/1124 [==============================] - 255s 227ms/step - loss: 0.3709 - accuracy: 0.8714 - val_loss: 0.6768 - val_accuracy: 0.7939\n",
      "Epoch 19/100\n",
      "1124/1124 [==============================] - 257s 229ms/step - loss: 0.3629 - accuracy: 0.8732 - val_loss: 1.5403 - val_accuracy: 0.6442\n",
      "Epoch 20/100\n",
      "1124/1124 [==============================] - 254s 226ms/step - loss: 0.3465 - accuracy: 0.8790 - val_loss: 0.6645 - val_accuracy: 0.8030\n",
      "Epoch 21/100\n",
      "1124/1124 [==============================] - 258s 230ms/step - loss: 0.3402 - accuracy: 0.8804 - val_loss: 0.6185 - val_accuracy: 0.8182\n",
      "Epoch 22/100\n",
      "1124/1124 [==============================] - 251s 224ms/step - loss: 0.3324 - accuracy: 0.8824 - val_loss: 2.8814 - val_accuracy: 0.5059\n",
      "Epoch 23/100\n",
      "1124/1124 [==============================] - 258s 229ms/step - loss: 0.3222 - accuracy: 0.8866 - val_loss: 0.6306 - val_accuracy: 0.8215\n",
      "Epoch 24/100\n",
      "1124/1124 [==============================] - 255s 227ms/step - loss: 0.3122 - accuracy: 0.8879 - val_loss: 0.7808 - val_accuracy: 0.7757\n",
      "Epoch 25/100\n",
      "1124/1124 [==============================] - 261s 232ms/step - loss: 0.3094 - accuracy: 0.8898 - val_loss: 0.6057 - val_accuracy: 0.8202\n",
      "Epoch 26/100\n",
      "1124/1124 [==============================] - 261s 232ms/step - loss: 0.2973 - accuracy: 0.8949 - val_loss: 0.9929 - val_accuracy: 0.7349\n",
      "Epoch 27/100\n",
      "1124/1124 [==============================] - 253s 225ms/step - loss: 0.2922 - accuracy: 0.8950 - val_loss: 0.5605 - val_accuracy: 0.8387\n",
      "Epoch 28/100\n",
      "1124/1124 [==============================] - 255s 227ms/step - loss: 0.2908 - accuracy: 0.8958 - val_loss: 0.5748 - val_accuracy: 0.8347\n",
      "Epoch 29/100\n",
      "1124/1124 [==============================] - 257s 228ms/step - loss: 0.2865 - accuracy: 0.8973 - val_loss: 0.5297 - val_accuracy: 0.8437\n",
      "Epoch 30/100\n",
      "1124/1124 [==============================] - 259s 230ms/step - loss: 0.2732 - accuracy: 0.9015 - val_loss: 1.2628 - val_accuracy: 0.7029\n",
      "Epoch 31/100\n",
      "1124/1124 [==============================] - 257s 229ms/step - loss: 0.2671 - accuracy: 0.9037 - val_loss: 0.6221 - val_accuracy: 0.8237\n",
      "Epoch 32/100\n",
      "1124/1124 [==============================] - 254s 226ms/step - loss: 0.2576 - accuracy: 0.9085 - val_loss: 1.4527 - val_accuracy: 0.6722\n",
      "Epoch 33/100\n",
      "1124/1124 [==============================] - 267s 237ms/step - loss: 0.2585 - accuracy: 0.9071 - val_loss: 0.6029 - val_accuracy: 0.8275\n",
      "Epoch 34/100\n",
      "1124/1124 [==============================] - 263s 234ms/step - loss: 0.2618 - accuracy: 0.9075 - val_loss: 0.5325 - val_accuracy: 0.8522\n",
      "Epoch 35/100\n",
      "1124/1124 [==============================] - 256s 228ms/step - loss: 0.2533 - accuracy: 0.9089 - val_loss: 0.6696 - val_accuracy: 0.8167\n",
      "Epoch 36/100\n",
      "1124/1124 [==============================] - 262s 233ms/step - loss: 0.2480 - accuracy: 0.9102 - val_loss: 1.1297 - val_accuracy: 0.7244\n",
      "Epoch 37/100\n",
      "1124/1124 [==============================] - 261s 232ms/step - loss: 0.2364 - accuracy: 0.9146 - val_loss: 0.6149 - val_accuracy: 0.8440\n",
      "Epoch 38/100\n",
      "1124/1124 [==============================] - 256s 228ms/step - loss: 0.2375 - accuracy: 0.9136 - val_loss: 0.5932 - val_accuracy: 0.8310\n",
      "Epoch 39/100\n",
      "1124/1124 [==============================] - 247s 220ms/step - loss: 0.2387 - accuracy: 0.9139 - val_loss: 0.5775 - val_accuracy: 0.8437\n",
      "Epoch 40/100\n",
      "1124/1124 [==============================] - 247s 220ms/step - loss: 0.2281 - accuracy: 0.9169 - val_loss: 0.6803 - val_accuracy: 0.8155\n",
      "Epoch 41/100\n",
      "1124/1124 [==============================] - 251s 224ms/step - loss: 0.2194 - accuracy: 0.9189 - val_loss: 0.6352 - val_accuracy: 0.8307\n",
      "Epoch 42/100\n",
      "1124/1124 [==============================] - 255s 227ms/step - loss: 0.2234 - accuracy: 0.9187 - val_loss: 0.5784 - val_accuracy: 0.8425\n",
      "Epoch 43/100\n",
      "1124/1124 [==============================] - 254s 226ms/step - loss: 0.2154 - accuracy: 0.9207 - val_loss: 0.5616 - val_accuracy: 0.8462\n",
      "Epoch 44/100\n",
      "1124/1124 [==============================] - 262s 233ms/step - loss: 0.2144 - accuracy: 0.9216 - val_loss: 0.5606 - val_accuracy: 0.8557\n",
      "Epoch 45/100\n",
      "1124/1124 [==============================] - 256s 227ms/step - loss: 0.2165 - accuracy: 0.9207 - val_loss: 0.7045 - val_accuracy: 0.8115\n",
      "Epoch 46/100\n",
      "1124/1124 [==============================] - 251s 224ms/step - loss: 0.2015 - accuracy: 0.9265 - val_loss: 0.6630 - val_accuracy: 0.8240\n",
      "Epoch 47/100\n",
      "1124/1124 [==============================] - 249s 221ms/step - loss: 0.2031 - accuracy: 0.9256 - val_loss: 0.5938 - val_accuracy: 0.8335\n",
      "Epoch 48/100\n",
      "1124/1124 [==============================] - 248s 221ms/step - loss: 0.2014 - accuracy: 0.9252 - val_loss: 1.3289 - val_accuracy: 0.7064\n",
      "Epoch 49/100\n",
      "1124/1124 [==============================] - 249s 221ms/step - loss: 0.1964 - accuracy: 0.9280 - val_loss: 0.6782 - val_accuracy: 0.8340\n",
      "Epoch 50/100\n",
      "1124/1124 [==============================] - 250s 222ms/step - loss: 0.1943 - accuracy: 0.9280 - val_loss: 1.4526 - val_accuracy: 0.6829\n",
      "Epoch 51/100\n",
      "1124/1124 [==============================] - 247s 220ms/step - loss: 0.1890 - accuracy: 0.9299 - val_loss: 1.1938 - val_accuracy: 0.7194\n",
      "Epoch 52/100\n",
      "1124/1124 [==============================] - 247s 219ms/step - loss: 0.1905 - accuracy: 0.9307 - val_loss: 0.5959 - val_accuracy: 0.8435\n",
      "Epoch 53/100\n",
      "1124/1124 [==============================] - 247s 220ms/step - loss: 0.1903 - accuracy: 0.9300 - val_loss: 0.8012 - val_accuracy: 0.8062\n",
      "Epoch 54/100\n"
     ]
    },
    {
     "name": "stdout",
     "output_type": "stream",
     "text": [
      " 164/1124 [===>..........................] - ETA: 3:25 - loss: 0.1736 - accuracy: 0.9331"
     ]
    }
   ],
   "source": [
    "history = model.fit_generator(train_batches, validation_data=val_batches, epochs=100, steps_per_epoch=(35996//32), callbacks=[cp])"
   ]
  },
  {
   "cell_type": "code",
   "execution_count": null,
   "metadata": {},
   "outputs": [],
   "source": [
    "plt.plot(history.history['loss'])\n",
    "plt.plot(history.history['val_loss'])\n",
    "plt.show()"
   ]
  },
  {
   "cell_type": "code",
   "execution_count": null,
   "metadata": {},
   "outputs": [],
   "source": [
    "plt.plot(history.history['accuracy'])\n",
    "plt.plot(history.history['val_accuracy'])\n",
    "plt.show()"
   ]
  },
  {
   "cell_type": "code",
   "execution_count": null,
   "metadata": {},
   "outputs": [],
   "source": [
    "model.evaluate(X_test, Y_test_req)"
   ]
  },
  {
   "cell_type": "code",
   "execution_count": null,
   "metadata": {},
   "outputs": [],
   "source": [
    "from tensorflow.keras.models import load_model\n",
    "\n",
    "model_new = load_model('D:/Image Classification Self/Data/Myntra Dataset/myntradataset/myntra_clothes_articletype_classification.h5')"
   ]
  },
  {
   "cell_type": "code",
   "execution_count": null,
   "metadata": {},
   "outputs": [],
   "source": [
    "predictions = []\n",
    "\n",
    "for i in range(len(X_test)):\n",
    "    image = X_test[i].reshape((1, 80, 60, 3))\n",
    "    pred = model_new.predict(image)\n",
    "    i = np.argmax(pred)\n",
    "    predictions.append(i)"
   ]
  },
  {
   "cell_type": "code",
   "execution_count": null,
   "metadata": {},
   "outputs": [],
   "source": [
    "predictions"
   ]
  },
  {
   "cell_type": "code",
   "execution_count": null,
   "metadata": {},
   "outputs": [],
   "source": [
    "from sklearn.metrics import accuracy_score, confusion_matrix\n",
    "import seaborn as sns"
   ]
  },
  {
   "cell_type": "code",
   "execution_count": null,
   "metadata": {},
   "outputs": [],
   "source": [
    "accuracy_score(Y_test, predictions)"
   ]
  },
  {
   "cell_type": "code",
   "execution_count": null,
   "metadata": {},
   "outputs": [],
   "source": [
    "cm = confusion_matrix(Y_test, predictions)\n",
    "plt.figure(figsize=(20, 20))\n",
    "hm = sns.heatmap(cm, annot=True, square=True, cmap='Blues')\n",
    "plt.show(hm)"
   ]
  },
  {
   "cell_type": "code",
   "execution_count": null,
   "metadata": {},
   "outputs": [],
   "source": []
  }
 ],
 "metadata": {
  "kernelspec": {
   "display_name": "Python 3",
   "language": "python",
   "name": "python3"
  },
  "language_info": {
   "codemirror_mode": {
    "name": "ipython",
    "version": 3
   },
   "file_extension": ".py",
   "mimetype": "text/x-python",
   "name": "python",
   "nbconvert_exporter": "python",
   "pygments_lexer": "ipython3",
   "version": "3.7.7"
  }
 },
 "nbformat": 4,
 "nbformat_minor": 4
}
