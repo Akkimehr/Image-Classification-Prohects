{
 "cells": [
  {
   "cell_type": "code",
   "execution_count": 1,
   "metadata": {},
   "outputs": [],
   "source": [
    "import cv2 as cv\n",
    "import numpy as np\n",
    "import os"
   ]
  },
  {
   "cell_type": "code",
   "execution_count": 2,
   "metadata": {},
   "outputs": [],
   "source": [
    "path = 'D:/Image Classification Self/Data/Characters Classification/data/extracted_images/'"
   ]
  },
  {
   "cell_type": "code",
   "execution_count": 3,
   "metadata": {},
   "outputs": [],
   "source": [
    "classes = {'!':0, '(':1, ')':2, '+':3, ',':4, '-':5, '0':6, '1':7, '2':8, '3':9, '4':10, '5':11, '6':12, '7':13, '8':14, '9':15,\n",
    "           '=':16, 'A':17, 'alpha':18, 'ascii_124':19, 'b':20, 'beta':21, 'C':22, 'cos':23, 'd':24, 'Delta':25, 'div':26, \n",
    "           'e':27, 'exists':28, 'f':29, 'forall':30, 'forward_slash':31, 'G':32, 'gamma':33, 'geq':34, 'gt':35, 'H':36, 'i':37,\n",
    "           'in':38, 'infty':39, 'int':40, 'j':41, 'k':42, 'l':43, 'lambda':44, 'ldots':45, 'leq':46, 'lim':47, 'log':48,\n",
    "           'lt':49, 'M':50, 'mu':51, 'N':52, 'neq':53, 'o':54, 'p':55, 'phi':56, 'pi':57, 'pm':58, 'prime':59, 'q':60, 'R':61,\n",
    "           'rightarrow':62, 'S':63, 'sigma':64, 'sin':65, 'sqrt':66, 'sum':67, 'T':68, 'tan':69, 'theta':70, 'times':71, \n",
    "           'u':72, 'v':73, 'w':74, 'X':75, 'y':76, 'z':77, '[':78, ']':79, '{':80, '}':81}"
   ]
  },
  {
   "cell_type": "code",
   "execution_count": 4,
   "metadata": {},
   "outputs": [],
   "source": [
    "images = []\n",
    "labels = []\n",
    "\n",
    "def load_data(path):\n",
    "    for folders in os.listdir(path):\n",
    "        for files in os.listdir(path + folders + '/'):\n",
    "            image = cv.imread(path + folders + '/' + files)\n",
    "            if image is None:\n",
    "                continue\n",
    "            image = cv.cvtColor(image, cv.COLOR_BGR2GRAY)\n",
    "            image = cv.resize(image, (45, 45))\n",
    "            image = image.astype('float32')/255.0\n",
    "            label = classes[str(folders)]\n",
    "            images.append(image)\n",
    "            labels.append(label)\n",
    "    images_r = np.array(images).reshape((len(images), 45, 45, 1))\n",
    "    labels_r = np.array(labels)\n",
    "    return images_r, labels_r"
   ]
  },
  {
   "cell_type": "code",
   "execution_count": 5,
   "metadata": {},
   "outputs": [],
   "source": [
    "images, labels = load_data(path)"
   ]
  },
  {
   "cell_type": "code",
   "execution_count": 6,
   "metadata": {},
   "outputs": [
    {
     "data": {
      "text/plain": [
       "((375974, 45, 45, 1), (375974,))"
      ]
     },
     "execution_count": 6,
     "metadata": {},
     "output_type": "execute_result"
    }
   ],
   "source": [
    "images.shape, labels.shape"
   ]
  },
  {
   "cell_type": "code",
   "execution_count": 7,
   "metadata": {},
   "outputs": [],
   "source": [
    "from tensorflow.keras.utils import to_categorical\n",
    "from sklearn.model_selection import train_test_split"
   ]
  },
  {
   "cell_type": "code",
   "execution_count": 8,
   "metadata": {},
   "outputs": [],
   "source": [
    "X_train, X_test, Y_train, Y_test = train_test_split(images, labels, test_size=0.1, random_state=123)"
   ]
  },
  {
   "cell_type": "code",
   "execution_count": 9,
   "metadata": {},
   "outputs": [
    {
     "name": "stdout",
     "output_type": "stream",
     "text": [
      "(338376, 45, 45, 1) (37598, 45, 45, 1) (338376, 82) (37598, 82)\n"
     ]
    }
   ],
   "source": [
    "Y_train_req = to_categorical(Y_train)\n",
    "Y_test_req = to_categorical(Y_test)\n",
    "\n",
    "print(X_train.shape, X_test.shape, Y_train_req.shape, Y_test_req.shape)"
   ]
  },
  {
   "cell_type": "code",
   "execution_count": 10,
   "metadata": {},
   "outputs": [],
   "source": [
    "del images\n",
    "del labels"
   ]
  },
  {
   "cell_type": "code",
   "execution_count": 11,
   "metadata": {},
   "outputs": [],
   "source": [
    "from tensorflow.keras.layers import Conv2D, Flatten, BatchNormalization, Input, Dense, MaxPooling2D, Dropout\n",
    "from tensorflow.keras.models import Sequential"
   ]
  },
  {
   "cell_type": "code",
   "execution_count": 12,
   "metadata": {},
   "outputs": [],
   "source": [
    "model = Sequential()\n",
    "model.add(Input((45, 45, 1)))\n",
    "\n",
    "model.add(Conv2D(6, (5,5), strides=1, padding='same', kernel_initializer='he_normal', activation='relu'))\n",
    "model.add(BatchNormalization())\n",
    "model.add(MaxPooling2D((2,2), strides=2))\n",
    "\n",
    "model.add(Conv2D(16, (5,5), strides=1, padding='same', kernel_initializer='he_normal', activation='relu'))\n",
    "model.add(BatchNormalization())\n",
    "model.add(MaxPooling2D((2,2), strides=2))\n",
    "\n",
    "model.add(Flatten())\n",
    "model.add(Dense(120, kernel_initializer='he_normal', activation='relu'))\n",
    "# model.add(Dropout(0.2))\n",
    "model.add(Dense(82, activation='softmax'))"
   ]
  },
  {
   "cell_type": "code",
   "execution_count": 13,
   "metadata": {},
   "outputs": [
    {
     "name": "stdout",
     "output_type": "stream",
     "text": [
      "Model: \"sequential\"\n",
      "_________________________________________________________________\n",
      "Layer (type)                 Output Shape              Param #   \n",
      "=================================================================\n",
      "conv2d (Conv2D)              (None, 45, 45, 6)         156       \n",
      "_________________________________________________________________\n",
      "batch_normalization (BatchNo (None, 45, 45, 6)         24        \n",
      "_________________________________________________________________\n",
      "max_pooling2d (MaxPooling2D) (None, 22, 22, 6)         0         \n",
      "_________________________________________________________________\n",
      "conv2d_1 (Conv2D)            (None, 22, 22, 16)        2416      \n",
      "_________________________________________________________________\n",
      "batch_normalization_1 (Batch (None, 22, 22, 16)        64        \n",
      "_________________________________________________________________\n",
      "max_pooling2d_1 (MaxPooling2 (None, 11, 11, 16)        0         \n",
      "_________________________________________________________________\n",
      "flatten (Flatten)            (None, 1936)              0         \n",
      "_________________________________________________________________\n",
      "dense (Dense)                (None, 120)               232440    \n",
      "_________________________________________________________________\n",
      "dense_1 (Dense)              (None, 82)                9922      \n",
      "=================================================================\n",
      "Total params: 245,022\n",
      "Trainable params: 244,978\n",
      "Non-trainable params: 44\n",
      "_________________________________________________________________\n"
     ]
    }
   ],
   "source": [
    "model.summary()"
   ]
  },
  {
   "cell_type": "code",
   "execution_count": 14,
   "metadata": {},
   "outputs": [],
   "source": [
    "model.compile(loss='categorical_crossentropy', optimizer='adam', metrics=['accuracy'])"
   ]
  },
  {
   "cell_type": "code",
   "execution_count": 15,
   "metadata": {},
   "outputs": [
    {
     "name": "stdout",
     "output_type": "stream",
     "text": [
      "Train on 304538 samples, validate on 33838 samples\n",
      "Epoch 1/50\n",
      "304538/304538 [==============================] - 28s 91us/sample - loss: 0.4190 - accuracy: 0.8880 - val_loss: 0.2097 - val_accuracy: 0.9366\n",
      "Epoch 2/50\n",
      "304538/304538 [==============================] - 27s 89us/sample - loss: 0.1301 - accuracy: 0.9603 - val_loss: 0.1316 - val_accuracy: 0.9583\n",
      "Epoch 3/50\n",
      "304538/304538 [==============================] - 29s 95us/sample - loss: 0.0810 - accuracy: 0.9740 - val_loss: 0.2694 - val_accuracy: 0.9078\n",
      "Epoch 4/50\n",
      "304538/304538 [==============================] - 30s 99us/sample - loss: 0.0595 - accuracy: 0.9805 - val_loss: 0.2401 - val_accuracy: 0.9285\n",
      "Epoch 5/50\n",
      "304538/304538 [==============================] - 31s 103us/sample - loss: 0.0491 - accuracy: 0.9839 - val_loss: 1.5666 - val_accuracy: 0.7438\n",
      "Epoch 6/50\n",
      "304538/304538 [==============================] - 32s 106us/sample - loss: 0.0420 - accuracy: 0.9858 - val_loss: 0.0767 - val_accuracy: 0.9764\n",
      "Epoch 7/50\n",
      "304538/304538 [==============================] - 33s 108us/sample - loss: 0.0375 - accuracy: 0.9873 - val_loss: 0.0553 - val_accuracy: 0.9837\n",
      "Epoch 8/50\n",
      "304538/304538 [==============================] - 33s 110us/sample - loss: 0.0328 - accuracy: 0.9889 - val_loss: 0.0500 - val_accuracy: 0.9857\n",
      "Epoch 9/50\n",
      "304538/304538 [==============================] - 34s 111us/sample - loss: 0.0303 - accuracy: 0.9895 - val_loss: 0.0755 - val_accuracy: 0.9783\n",
      "Epoch 10/50\n",
      "304538/304538 [==============================] - 35s 114us/sample - loss: 0.0276 - accuracy: 0.9905 - val_loss: 0.0425 - val_accuracy: 0.9881\n",
      "Epoch 11/50\n",
      "304538/304538 [==============================] - 36s 117us/sample - loss: 0.0246 - accuracy: 0.9916 - val_loss: 0.0760 - val_accuracy: 0.9808\n",
      "Epoch 12/50\n",
      "304538/304538 [==============================] - 36s 117us/sample - loss: 0.0243 - accuracy: 0.9918 - val_loss: 0.2245 - val_accuracy: 0.9429\n",
      "Epoch 13/50\n",
      "304538/304538 [==============================] - 36s 117us/sample - loss: 0.0203 - accuracy: 0.9930 - val_loss: 0.0451 - val_accuracy: 0.9876\n",
      "Epoch 14/50\n",
      "304538/304538 [==============================] - 36s 118us/sample - loss: 0.0207 - accuracy: 0.9930 - val_loss: 0.7758 - val_accuracy: 0.8674\n",
      "Epoch 15/50\n",
      "304538/304538 [==============================] - 36s 119us/sample - loss: 0.0191 - accuracy: 0.9935 - val_loss: 0.0764 - val_accuracy: 0.9808\n",
      "Epoch 16/50\n",
      "304538/304538 [==============================] - 36s 119us/sample - loss: 0.0174 - accuracy: 0.9941 - val_loss: 0.1026 - val_accuracy: 0.9746\n",
      "Epoch 17/50\n",
      "304538/304538 [==============================] - 37s 121us/sample - loss: 0.0180 - accuracy: 0.9939 - val_loss: 0.1011 - val_accuracy: 0.9744\n",
      "Epoch 18/50\n",
      "304538/304538 [==============================] - 38s 124us/sample - loss: 0.0161 - accuracy: 0.9944 - val_loss: 0.0384 - val_accuracy: 0.9899\n",
      "Epoch 19/50\n",
      "304538/304538 [==============================] - 37s 121us/sample - loss: 0.0148 - accuracy: 0.9950 - val_loss: 0.0323 - val_accuracy: 0.9936\n",
      "Epoch 20/50\n",
      "304538/304538 [==============================] - 37s 121us/sample - loss: 0.0150 - accuracy: 0.9949 - val_loss: 0.0471 - val_accuracy: 0.9890\n",
      "Epoch 21/50\n",
      "304538/304538 [==============================] - 38s 124us/sample - loss: 0.0148 - accuracy: 0.9949 - val_loss: 0.2226 - val_accuracy: 0.9494\n",
      "Epoch 22/50\n",
      "304538/304538 [==============================] - 38s 123us/sample - loss: 0.0128 - accuracy: 0.9956 - val_loss: 0.0393 - val_accuracy: 0.9915\n",
      "Epoch 23/50\n",
      "304538/304538 [==============================] - 38s 124us/sample - loss: 0.0132 - accuracy: 0.9956 - val_loss: 0.3466 - val_accuracy: 0.9318\n",
      "Epoch 24/50\n",
      "304538/304538 [==============================] - 38s 124us/sample - loss: 0.0122 - accuracy: 0.9959 - val_loss: 0.0343 - val_accuracy: 0.9928\n",
      "Epoch 25/50\n",
      "304538/304538 [==============================] - 38s 124us/sample - loss: 0.0123 - accuracy: 0.9957 - val_loss: 0.0347 - val_accuracy: 0.9935\n",
      "Epoch 26/50\n",
      "304538/304538 [==============================] - 38s 124us/sample - loss: 0.0115 - accuracy: 0.9961 - val_loss: 0.0402 - val_accuracy: 0.9906\n",
      "Epoch 27/50\n",
      "304538/304538 [==============================] - 38s 124us/sample - loss: 0.0116 - accuracy: 0.9961 - val_loss: 0.0385 - val_accuracy: 0.9925\n",
      "Epoch 28/50\n",
      "304538/304538 [==============================] - 38s 125us/sample - loss: 0.0110 - accuracy: 0.9961 - val_loss: 0.0360 - val_accuracy: 0.9921\n",
      "Epoch 29/50\n",
      "304538/304538 [==============================] - 39s 127us/sample - loss: 0.0104 - accuracy: 0.9963 - val_loss: 0.0481 - val_accuracy: 0.9900\n",
      "Epoch 30/50\n",
      "304538/304538 [==============================] - 38s 125us/sample - loss: 0.0103 - accuracy: 0.9965 - val_loss: 0.1940 - val_accuracy: 0.9618\n",
      "Epoch 31/50\n",
      "304538/304538 [==============================] - 38s 125us/sample - loss: 0.0094 - accuracy: 0.9967 - val_loss: 0.1208 - val_accuracy: 0.9782\n",
      "Epoch 32/50\n",
      "304538/304538 [==============================] - 39s 127us/sample - loss: 0.0101 - accuracy: 0.9966 - val_loss: 0.0715 - val_accuracy: 0.9863\n",
      "Epoch 33/50\n",
      "304538/304538 [==============================] - 38s 125us/sample - loss: 0.0101 - accuracy: 0.9965 - val_loss: 0.0321 - val_accuracy: 0.9941\n",
      "Epoch 34/50\n",
      "304538/304538 [==============================] - 39s 127us/sample - loss: 0.0088 - accuracy: 0.9969 - val_loss: 0.0345 - val_accuracy: 0.9926\n",
      "Epoch 35/50\n",
      "304538/304538 [==============================] - 38s 126us/sample - loss: 0.0100 - accuracy: 0.9967 - val_loss: 0.0410 - val_accuracy: 0.9910\n",
      "Epoch 36/50\n",
      "304538/304538 [==============================] - 39s 128us/sample - loss: 0.0086 - accuracy: 0.9970 - val_loss: 0.0309 - val_accuracy: 0.9944\n",
      "Epoch 37/50\n",
      "304538/304538 [==============================] - 40s 131us/sample - loss: 0.0082 - accuracy: 0.9971 - val_loss: 0.1659 - val_accuracy: 0.9667\n",
      "Epoch 38/50\n",
      "304538/304538 [==============================] - 39s 130us/sample - loss: 0.0093 - accuracy: 0.9969 - val_loss: 0.2549 - val_accuracy: 0.9459\n",
      "Epoch 39/50\n",
      "304538/304538 [==============================] - 39s 129us/sample - loss: 0.0081 - accuracy: 0.9970 - val_loss: 0.0307 - val_accuracy: 0.9950\n",
      "Epoch 40/50\n",
      "304538/304538 [==============================] - 40s 132us/sample - loss: 0.0079 - accuracy: 0.9972 - val_loss: 0.0252 - val_accuracy: 0.9959\n",
      "Epoch 41/50\n",
      "304538/304538 [==============================] - 40s 131us/sample - loss: 0.0081 - accuracy: 0.9971 - val_loss: 0.3037 - val_accuracy: 0.9548\n",
      "Epoch 42/50\n",
      "304538/304538 [==============================] - 41s 133us/sample - loss: 0.0072 - accuracy: 0.9974 - val_loss: 0.0450 - val_accuracy: 0.9900\n",
      "Epoch 43/50\n",
      "304538/304538 [==============================] - 40s 133us/sample - loss: 0.0083 - accuracy: 0.9971 - val_loss: 0.0489 - val_accuracy: 0.9899\n",
      "Epoch 44/50\n",
      "304538/304538 [==============================] - 40s 131us/sample - loss: 0.0078 - accuracy: 0.9972 - val_loss: 0.2382 - val_accuracy: 0.9570\n",
      "Epoch 45/50\n",
      "304538/304538 [==============================] - 41s 133us/sample - loss: 0.0071 - accuracy: 0.9975 - val_loss: 0.0304 - val_accuracy: 0.9940\n",
      "Epoch 46/50\n",
      "304538/304538 [==============================] - 40s 132us/sample - loss: 0.0077 - accuracy: 0.9974 - val_loss: 0.0313 - val_accuracy: 0.9947\n",
      "Epoch 47/50\n",
      "304538/304538 [==============================] - 40s 132us/sample - loss: 0.0070 - accuracy: 0.9976 - val_loss: 0.0579 - val_accuracy: 0.9881\n",
      "Epoch 48/50\n",
      "304538/304538 [==============================] - 41s 134us/sample - loss: 0.0075 - accuracy: 0.9975 - val_loss: 0.0256 - val_accuracy: 0.9963\n",
      "Epoch 49/50\n",
      "304538/304538 [==============================] - 41s 133us/sample - loss: 0.0062 - accuracy: 0.9978 - val_loss: 0.0958 - val_accuracy: 0.9790\n",
      "Epoch 50/50\n",
      "304538/304538 [==============================] - 41s 134us/sample - loss: 0.0079 - accuracy: 0.9972 - val_loss: 0.0242 - val_accuracy: 0.9968\n"
     ]
    }
   ],
   "source": [
    "history = model.fit(X_train, Y_train_req, epochs=50, batch_size=128, validation_split=0.1)"
   ]
  },
  {
   "cell_type": "code",
   "execution_count": 16,
   "metadata": {},
   "outputs": [
    {
     "data": {
      "image/png": "[encoded data removed]",
      "text/plain": [
       "<Figure size 432x288 with 1 Axes>"
      ]
     },
     "metadata": {
      "needs_background": "light"
     },
     "output_type": "display_data"
    }
   ],
   "source": [
    "import matplotlib.pyplot as plt\n",
    "\n",
    "plt.plot(history.history['loss'])\n",
    "plt.plot(history.history['val_loss'])\n",
    "plt.legend(['Training Loss', 'Validation Loss'], loc='best')\n",
    "plt.show()"
   ]
  },
  {
   "cell_type": "code",
   "execution_count": 17,
   "metadata": {},
   "outputs": [
    {
     "data": {
      "image/png": "[encoded data removed]",
      "text/plain": [
       "<Figure size 432x288 with 1 Axes>"
      ]
     },
     "metadata": {
      "needs_background": "light"
     },
     "output_type": "display_data"
    }
   ],
   "source": [
    "plt.plot(history.history['accuracy'])\n",
    "plt.plot(history.history['val_accuracy'])\n",
    "plt.legend(['Training Accuracy', 'Validation Accuracy'], loc='best')\n",
    "plt.show()"
   ]
  },
  {
   "cell_type": "code",
   "execution_count": 18,
   "metadata": {},
   "outputs": [
    {
     "name": "stdout",
     "output_type": "stream",
     "text": [
      "37598/37598 [==============================] - 7s 195us/sample - loss: 0.0270 - accuracy: 0.9965\n"
     ]
    },
    {
     "data": {
      "text/plain": [
       "[0.02704501465225797, 0.99651575]"
      ]
     },
     "execution_count": 18,
     "metadata": {},
     "output_type": "execute_result"
    }
   ],
   "source": [
    "model.evaluate(X_test, Y_test_req)"
   ]
  },
  {
   "cell_type": "code",
   "execution_count": null,
   "metadata": {},
   "outputs": [],
   "source": []
  }
 ],
 "metadata": {
  "kernelspec": {
   "display_name": "Python 3",
   "language": "python",
   "name": "python3"
  },
  "language_info": {
   "codemirror_mode": {
    "name": "ipython",
    "version": 3
   },
   "file_extension": ".py",
   "mimetype": "text/x-python",
   "name": "python",
   "nbconvert_exporter": "python",
   "pygments_lexer": "ipython3",
   "version": "3.7.7"
  }
 },
 "nbformat": 4,
 "nbformat_minor": 4
}
